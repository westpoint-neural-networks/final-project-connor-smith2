{
  "nbformat": 4,
  "nbformat_minor": 0,
  "metadata": {
    "colab": {
      "name": "CountBlackJack.IPYNB",
      "provenance": [],
      "collapsed_sections": []
    },
    "kernelspec": {
      "name": "python3",
      "display_name": "Python 3"
    }
  },
  "cells": [
    {
      "cell_type": "code",
      "metadata": {
        "id": "IDGlD79o65-Z",
        "colab_type": "code",
        "outputId": "cab9241a-5300-44e6-ee28-2caa274b2b9c",
        "colab": {
          "base_uri": "https://localhost:8080/",
          "height": 471
        }
      },
      "source": [
        "!pip install ipydeps"
      ],
      "execution_count": 1,
      "outputs": [
        {
          "output_type": "stream",
          "text": [
            "Collecting ipydeps\n",
            "  Downloading https://files.pythonhosted.org/packages/38/89/7064f30f0c97d4efd823c3574dbc9d006637be76c6433545607e001cfb28/ipydeps-0.10.0.tar.gz\n",
            "Requirement already satisfied: pip in /usr/local/lib/python3.6/dist-packages (from ipydeps) (19.3.1)\n",
            "Requirement already satisfied: setuptools in /usr/local/lib/python3.6/dist-packages (from ipydeps) (45.2.0)\n",
            "Collecting pypki2>=0.10.1\n",
            "  Downloading https://files.pythonhosted.org/packages/95/70/8d5310bbbea7536fe7c62143c2f4f1ba8015a30917d2f29c62784d1ca577/pypki2-0.11.0.tar.gz\n",
            "Collecting pyOpenSSL\n",
            "\u001b[?25l  Downloading https://files.pythonhosted.org/packages/9e/de/f8342b68fa9e981d348039954657bdf681b2ab93de27443be51865ffa310/pyOpenSSL-19.1.0-py2.py3-none-any.whl (53kB)\n",
            "\u001b[K     |████████████████████████████████| 61kB 3.1MB/s \n",
            "\u001b[?25hRequirement already satisfied: six>=1.5.2 in /usr/local/lib/python3.6/dist-packages (from pyOpenSSL->pypki2>=0.10.1->ipydeps) (1.12.0)\n",
            "Collecting cryptography>=2.8\n",
            "\u001b[?25l  Downloading https://files.pythonhosted.org/packages/ca/9a/7cece52c46546e214e10811b36b2da52ce1ea7fa203203a629b8dfadad53/cryptography-2.8-cp34-abi3-manylinux2010_x86_64.whl (2.3MB)\n",
            "\u001b[K     |████████████████████████████████| 2.3MB 8.0MB/s \n",
            "\u001b[?25hRequirement already satisfied: cffi!=1.11.3,>=1.8 in /usr/local/lib/python3.6/dist-packages (from cryptography>=2.8->pyOpenSSL->pypki2>=0.10.1->ipydeps) (1.14.0)\n",
            "Requirement already satisfied: pycparser in /usr/local/lib/python3.6/dist-packages (from cffi!=1.11.3,>=1.8->cryptography>=2.8->pyOpenSSL->pypki2>=0.10.1->ipydeps) (2.20)\n",
            "Building wheels for collected packages: ipydeps, pypki2\n",
            "  Building wheel for ipydeps (setup.py) ... \u001b[?25l\u001b[?25hdone\n",
            "  Created wheel for ipydeps: filename=ipydeps-0.10.0-cp36-none-any.whl size=10798 sha256=1c07a7a460ddf91ae05c57383f96f7d0be125d98642f1f4de4477771a039298f\n",
            "  Stored in directory: /root/.cache/pip/wheels/e3/4a/6f/2a1810efd60598edd3f3a3d800bb46f734407dd62c18710534\n",
            "  Building wheel for pypki2 (setup.py) ... \u001b[?25l\u001b[?25hdone\n",
            "  Created wheel for pypki2: filename=pypki2-0.11.0-cp36-none-any.whl size=10428 sha256=62bd298da4fd0f157027984d0c7675c58f9253d2dd6414f811ebcf3fde643907\n",
            "  Stored in directory: /root/.cache/pip/wheels/94/40/0b/348ab8c4a7ccd1f846f0b7a011065f70b06a53c7accf84a301\n",
            "Successfully built ipydeps pypki2\n",
            "Installing collected packages: cryptography, pyOpenSSL, pypki2, ipydeps\n",
            "Successfully installed cryptography-2.8 ipydeps-0.10.0 pyOpenSSL-19.1.0 pypki2-0.11.0\n"
          ],
          "name": "stdout"
        }
      ]
    },
    {
      "cell_type": "code",
      "metadata": {
        "id": "2OhoJkvm6_1r",
        "colab_type": "code",
        "outputId": "5fa1083c-8b7b-4ab6-ca24-7b8fdaedb75b",
        "colab": {
          "base_uri": "https://localhost:8080/",
          "height": 87
        }
      },
      "source": [
        "import ipydeps\n",
        "ipydeps.pip([\"keras-rl\", \"gym\"])"
      ],
      "execution_count": 2,
      "outputs": [
        {
          "output_type": "display_data",
          "data": {
            "text/html": [
              "<div style=\"font-family:monospace;background:#e6fee6;color:black\"><pre>Packages already installed: gym</pre></div>"
            ],
            "text/plain": [
              "<IPython.core.display.HTML object>"
            ]
          },
          "metadata": {
            "tags": []
          }
        },
        {
          "output_type": "display_data",
          "data": {
            "text/html": [
              "<div style=\"font-family:monospace;background:#eee;color:black\"><pre>Running pip to install keras-rl</pre></div>"
            ],
            "text/plain": [
              "<IPython.core.display.HTML object>"
            ]
          },
          "metadata": {
            "tags": []
          }
        },
        {
          "output_type": "display_data",
          "data": {
            "text/html": [
              "<div style=\"font-family:monospace;background:#e6fee6;color:black\"><pre>New packages installed: keras-rl</pre></div>"
            ],
            "text/plain": [
              "<IPython.core.display.HTML object>"
            ]
          },
          "metadata": {
            "tags": []
          }
        },
        {
          "output_type": "display_data",
          "data": {
            "text/html": [
              "<div style=\"font-family:monospace;background:#eee;color:black\"><pre>Done</pre></div>"
            ],
            "text/plain": [
              "<IPython.core.display.HTML object>"
            ]
          },
          "metadata": {
            "tags": []
          }
        }
      ]
    },
    {
      "cell_type": "code",
      "metadata": {
        "id": "kMZh2aSoGZYn",
        "colab_type": "code",
        "outputId": "65a1ab46-fcbe-4c62-9b7c-59550ab252b5",
        "colab": {
          "base_uri": "https://localhost:8080/",
          "height": 139
        }
      },
      "source": [
        "!pip uninstall tensorflow==2.0.0-beta"
      ],
      "execution_count": 3,
      "outputs": [
        {
          "output_type": "stream",
          "text": [
            "Uninstalling tensorflow-1.15.0:\n",
            "  Would remove:\n",
            "    /tensorflow-1.15.0/python3.6/tensorflow-1.15.0.dist-info/*\n",
            "    /tensorflow-1.15.0/python3.6/tensorflow/*\n",
            "    /tensorflow-1.15.0/python3.6/tensorflow_core/*\n",
            "Proceed (y/n)? y\n",
            "  Successfully uninstalled tensorflow-1.15.0\n"
          ],
          "name": "stdout"
        }
      ]
    },
    {
      "cell_type": "code",
      "metadata": {
        "id": "NK7eC2JcGGDI",
        "colab_type": "code",
        "outputId": "1951c1ab-4daf-4f5f-e83f-3b049ddd1541",
        "colab": {
          "base_uri": "https://localhost:8080/",
          "height": 713
        }
      },
      "source": [
        "!pip install tensorflow==1.13.1"
      ],
      "execution_count": 4,
      "outputs": [
        {
          "output_type": "stream",
          "text": [
            "Collecting tensorflow==1.13.1\n",
            "\u001b[?25l  Downloading https://files.pythonhosted.org/packages/77/63/a9fa76de8dffe7455304c4ed635be4aa9c0bacef6e0633d87d5f54530c5c/tensorflow-1.13.1-cp36-cp36m-manylinux1_x86_64.whl (92.5MB)\n",
            "\u001b[K     |████████████████████████████████| 92.5MB 103kB/s \n",
            "\u001b[?25hRequirement already satisfied: astor>=0.6.0 in /usr/local/lib/python3.6/dist-packages (from tensorflow==1.13.1) (0.8.1)\n",
            "Requirement already satisfied: termcolor>=1.1.0 in /usr/local/lib/python3.6/dist-packages (from tensorflow==1.13.1) (1.1.0)\n",
            "Requirement already satisfied: keras-applications>=1.0.6 in /usr/local/lib/python3.6/dist-packages (from tensorflow==1.13.1) (1.0.8)\n",
            "Requirement already satisfied: grpcio>=1.8.6 in /usr/local/lib/python3.6/dist-packages (from tensorflow==1.13.1) (1.24.3)\n",
            "Requirement already satisfied: keras-preprocessing>=1.0.5 in /usr/local/lib/python3.6/dist-packages (from tensorflow==1.13.1) (1.1.0)\n",
            "Requirement already satisfied: wheel>=0.26 in /usr/local/lib/python3.6/dist-packages (from tensorflow==1.13.1) (0.34.2)\n",
            "Requirement already satisfied: absl-py>=0.1.6 in /usr/local/lib/python3.6/dist-packages (from tensorflow==1.13.1) (0.9.0)\n",
            "Requirement already satisfied: numpy>=1.13.3 in /usr/local/lib/python3.6/dist-packages (from tensorflow==1.13.1) (1.18.1)\n",
            "Collecting tensorboard<1.14.0,>=1.13.0\n",
            "\u001b[?25l  Downloading https://files.pythonhosted.org/packages/0f/39/bdd75b08a6fba41f098b6cb091b9e8c7a80e1b4d679a581a0ccd17b10373/tensorboard-1.13.1-py3-none-any.whl (3.2MB)\n",
            "\u001b[K     |████████████████████████████████| 3.2MB 46.4MB/s \n",
            "\u001b[?25hRequirement already satisfied: six>=1.10.0 in /usr/local/lib/python3.6/dist-packages (from tensorflow==1.13.1) (1.12.0)\n",
            "Requirement already satisfied: protobuf>=3.6.1 in /usr/local/lib/python3.6/dist-packages (from tensorflow==1.13.1) (3.10.0)\n",
            "Collecting tensorflow-estimator<1.14.0rc0,>=1.13.0\n",
            "\u001b[?25l  Downloading https://files.pythonhosted.org/packages/bb/48/13f49fc3fa0fdf916aa1419013bb8f2ad09674c275b4046d5ee669a46873/tensorflow_estimator-1.13.0-py2.py3-none-any.whl (367kB)\n",
            "\u001b[K     |████████████████████████████████| 368kB 38.4MB/s \n",
            "\u001b[?25hRequirement already satisfied: gast>=0.2.0 in /usr/local/lib/python3.6/dist-packages (from tensorflow==1.13.1) (0.2.2)\n",
            "Requirement already satisfied: h5py in /usr/local/lib/python3.6/dist-packages (from keras-applications>=1.0.6->tensorflow==1.13.1) (2.8.0)\n",
            "Requirement already satisfied: markdown>=2.6.8 in /usr/local/lib/python3.6/dist-packages (from tensorboard<1.14.0,>=1.13.0->tensorflow==1.13.1) (3.2.1)\n",
            "Requirement already satisfied: werkzeug>=0.11.15 in /usr/local/lib/python3.6/dist-packages (from tensorboard<1.14.0,>=1.13.0->tensorflow==1.13.1) (1.0.0)\n",
            "Requirement already satisfied: setuptools in /usr/local/lib/python3.6/dist-packages (from protobuf>=3.6.1->tensorflow==1.13.1) (45.2.0)\n",
            "Collecting mock>=2.0.0\n",
            "  Downloading https://files.pythonhosted.org/packages/cd/74/d72daf8dff5b6566db857cfd088907bb0355f5dd2914c4b3ef065c790735/mock-4.0.2-py3-none-any.whl\n",
            "\u001b[31mERROR: tensorflow-federated 0.12.0 has requirement tensorflow~=2.1.0, but you'll have tensorflow 1.13.1 which is incompatible.\u001b[0m\n",
            "\u001b[31mERROR: tensorflow-federated 0.12.0 has requirement tensorflow-addons~=0.7.0, but you'll have tensorflow-addons 0.8.3 which is incompatible.\u001b[0m\n",
            "Installing collected packages: tensorboard, mock, tensorflow-estimator, tensorflow\n",
            "  Found existing installation: tensorboard 1.15.0\n",
            "    Uninstalling tensorboard-1.15.0:\n",
            "      Successfully uninstalled tensorboard-1.15.0\n",
            "  Found existing installation: tensorflow-estimator 1.15.1\n",
            "    Uninstalling tensorflow-estimator-1.15.1:\n",
            "      Successfully uninstalled tensorflow-estimator-1.15.1\n",
            "  Found existing installation: tensorflow 2.1.0\n",
            "    Uninstalling tensorflow-2.1.0:\n",
            "      Successfully uninstalled tensorflow-2.1.0\n",
            "Successfully installed mock-4.0.2 tensorboard-2.1.1 tensorflow-1.13.1 tensorflow-estimator-2.1.0\n"
          ],
          "name": "stdout"
        }
      ]
    },
    {
      "cell_type": "code",
      "metadata": {
        "id": "Ubg8Y8MTFm7T",
        "colab_type": "code",
        "outputId": "d7f4bc62-8497-4e08-9c27-c7c2ff5b7f8a",
        "colab": {
          "base_uri": "https://localhost:8080/",
          "height": 309
        }
      },
      "source": [
        "import tensorflow as tf\n",
        "print(tf.__version__)"
      ],
      "execution_count": 5,
      "outputs": [
        {
          "output_type": "stream",
          "text": [
            "/usr/local/lib/python3.6/dist-packages/tensorflow/python/framework/dtypes.py:526: FutureWarning: Passing (type, 1) or '1type' as a synonym of type is deprecated; in a future version of numpy, it will be understood as (type, (1,)) / '(1,)type'.\n",
            "  _np_qint8 = np.dtype([(\"qint8\", np.int8, 1)])\n",
            "/usr/local/lib/python3.6/dist-packages/tensorflow/python/framework/dtypes.py:527: FutureWarning: Passing (type, 1) or '1type' as a synonym of type is deprecated; in a future version of numpy, it will be understood as (type, (1,)) / '(1,)type'.\n",
            "  _np_quint8 = np.dtype([(\"quint8\", np.uint8, 1)])\n",
            "/usr/local/lib/python3.6/dist-packages/tensorflow/python/framework/dtypes.py:528: FutureWarning: Passing (type, 1) or '1type' as a synonym of type is deprecated; in a future version of numpy, it will be understood as (type, (1,)) / '(1,)type'.\n",
            "  _np_qint16 = np.dtype([(\"qint16\", np.int16, 1)])\n",
            "/usr/local/lib/python3.6/dist-packages/tensorflow/python/framework/dtypes.py:529: FutureWarning: Passing (type, 1) or '1type' as a synonym of type is deprecated; in a future version of numpy, it will be understood as (type, (1,)) / '(1,)type'.\n",
            "  _np_quint16 = np.dtype([(\"quint16\", np.uint16, 1)])\n",
            "/usr/local/lib/python3.6/dist-packages/tensorflow/python/framework/dtypes.py:530: FutureWarning: Passing (type, 1) or '1type' as a synonym of type is deprecated; in a future version of numpy, it will be understood as (type, (1,)) / '(1,)type'.\n",
            "  _np_qint32 = np.dtype([(\"qint32\", np.int32, 1)])\n",
            "/usr/local/lib/python3.6/dist-packages/tensorflow/python/framework/dtypes.py:535: FutureWarning: Passing (type, 1) or '1type' as a synonym of type is deprecated; in a future version of numpy, it will be understood as (type, (1,)) / '(1,)type'.\n",
            "  np_resource = np.dtype([(\"resource\", np.ubyte, 1)])\n"
          ],
          "name": "stderr"
        },
        {
          "output_type": "display_data",
          "data": {
            "text/html": [
              "<p style=\"color: red;\">\n",
              "The default version of TensorFlow in Colab will soon switch to TensorFlow 2.x.<br>\n",
              "We recommend you <a href=\"https://www.tensorflow.org/guide/migrate\" target=\"_blank\">upgrade</a> now \n",
              "or ensure your notebook will continue to use TensorFlow 1.x via the <code>%tensorflow_version 1.x</code> magic:\n",
              "<a href=\"https://colab.research.google.com/notebooks/tensorflow_version.ipynb\" target=\"_blank\">more info</a>.</p>\n"
            ],
            "text/plain": [
              "<IPython.core.display.HTML object>"
            ]
          },
          "metadata": {
            "tags": []
          }
        },
        {
          "output_type": "stream",
          "text": [
            "1.13.1\n"
          ],
          "name": "stdout"
        }
      ]
    },
    {
      "cell_type": "code",
      "metadata": {
        "id": "98L-xzZz7INR",
        "colab_type": "code",
        "outputId": "af2f8842-1a57-42cc-fb49-d74256471ff7",
        "colab": {
          "base_uri": "https://localhost:8080/",
          "height": 35
        }
      },
      "source": [
        "import numpy as np\n",
        "import gym\n",
        "from gym import spaces\n",
        "from gym.utils import seeding\n",
        "\n",
        "from keras.models import Sequential\n",
        "from keras.layers import Dense, Activation, Flatten\n",
        "from keras.optimizers import Adam\n",
        "\n",
        "from rl.agents.dqn import DQNAgent\n",
        "from rl.policy import BoltzmannQPolicy\n",
        "from rl.memory import SequentialMemory"
      ],
      "execution_count": 6,
      "outputs": [
        {
          "output_type": "stream",
          "text": [
            "Using TensorFlow backend.\n"
          ],
          "name": "stderr"
        }
      ]
    },
    {
      "cell_type": "code",
      "metadata": {
        "id": "IRAT4h3IIu7t",
        "colab_type": "code",
        "colab": {}
      },
      "source": [
        "import copy\n",
        "import random\n",
        "def cmp(a, b):\n",
        "    return float(a > b) - float(a < b)\n",
        "\n",
        "# 1 = Ace, 2-10 = Number cards, Jack/Queen/King = 10\n",
        "deck = [1, 2, 3, 4, 5, 6, 7, 8, 9, 10, 10, 10, 10, 1, 2, 3, 4, 5, 6, 7, 8, 9, 10, 10, 10, 10, 1, 2, 3, 4, 5, 6, 7, 8, 9, 10, 10, 10, 10, 1, 2, 3, 4, 5, 6, 7, 8, 9, 10, 10, 10, 10]\n",
        "deck2 = [1, 2, 3, 4, 5, 6, 7, 8, 9, 10, 10, 10, 10, 1, 2, 3, 4, 5, 6, 7, 8, 9, 10, 10, 10, 10, 1, 2, 3, 4, 5, 6, 7, 8, 9, 10, 10, 10, 10, 1, 2, 3, 4, 5, 6, 7, 8, 9, 10, 10, 10, 10]\n",
        "countn = 0\n",
        "\n",
        "\n",
        "def draw_card(rand):\n",
        "    global countn\n",
        "    curr = deck[rand]\n",
        "    deck.remove(curr)\n",
        "    if int(curr) == 1 or int(curr) == 10:\n",
        "        countn -= 1\n",
        "    if int(curr) < 7:\n",
        "        countn += 1\n",
        "    return int(curr)\n",
        "\n",
        "\n",
        "def draw_hand():\n",
        "    return [draw_card(random.randint(0, len(deck)-1)), draw_card(random.randint(0, len(deck)-1))]\n",
        "\n",
        "\n",
        "def usable_ace(hand):  # Does this hand have a usable ace?\n",
        "    return 1 in hand and sum(hand) + 10 <= 21\n",
        "\n",
        "\n",
        "def sum_hand(hand):  # Return current hand total\n",
        "    if usable_ace(hand):\n",
        "        return sum(hand) + 10\n",
        "    return sum(hand)\n",
        "\n",
        "\n",
        "def is_bust(hand):  # Is this hand a bust?\n",
        "    return sum_hand(hand) > 21\n",
        "\n",
        "\n",
        "def score(hand):  # What is the score of this hand (0 if bust)\n",
        "    return 0 if is_bust(hand) else sum_hand(hand)\n",
        "\n",
        "\n",
        "def is_natural(hand):  # Is this hand a natural blackjack?\n",
        "    return sorted(hand) == [1, 10]\n",
        "\n",
        "\n",
        "class CountBlackjackEnv(gym.Env):\n",
        "    \"\"\"Simple blackjack environment\n",
        "    Blackjack is a card game where the goal is to obtain cards that sum to as\n",
        "    near as possible to 21 without going over.  They're playing against a fixed\n",
        "    dealer.\n",
        "    Face cards (Jack, Queen, King) have point value 10.\n",
        "    Aces can either count as 11 or 1, and it's called 'usable' at 11.\n",
        "    This game is placed with an infinite deck (or with replacement).\n",
        "    The game starts with each (player and dealer) having one face up and one\n",
        "    face down card.\n",
        "    The player can request additional cards (hit=1) until they decide to stop\n",
        "    (stick=0) or exceed 21 (bust).\n",
        "    After the player sticks, the dealer reveals their facedown card, and draws\n",
        "    until their sum is 17 or greater.  If the dealer goes bust the player wins.\n",
        "    If neither player nor dealer busts, the outcome (win, lose, draw) is\n",
        "    decided by whose sum is closer to 21.  The reward for winning is +1,\n",
        "    drawing is 0, and losing is -1.\n",
        "    The observation of a 3-tuple of: the players current sum,\n",
        "    the dealer's one showing card (1-10 where 1 is ace),\n",
        "    and whether or not the player holds a usable ace (0 or 1).\n",
        "    This environment corresponds to the version of the blackjack problem\n",
        "    described in Example 5.1 in Reinforcement Learning: An Introduction\n",
        "    by Sutton and Barto.\n",
        "    http://incompleteideas.net/book/the-book-2nd.html\n",
        "    \"\"\"\n",
        "    def __init__(self, natural=False):\n",
        "        self.action_space = spaces.Discrete(2)\n",
        "        self.observation_space = spaces.Tuple((\n",
        "            spaces.Discrete(32),\n",
        "            spaces.Discrete(40),\n",
        "            spaces.Discrete(2)))\n",
        "\n",
        "        # Flag to payout 1.5 on a \"natural\" blackjack win, like casino rules\n",
        "        # Ref: http://www.bicyclecards.com/how-to-play/blackjack/\n",
        "        self.natural = natural\n",
        "        # Start the first game\n",
        "        self.reset()\n",
        "\n",
        "\n",
        "    def step(self, action):\n",
        "        global deck\n",
        "        global countn\n",
        "        assert self.action_space.contains(action)\n",
        "        if action:  # hit: add a card to players hand and return\n",
        "            if len(deck) == 0:\n",
        "                deck = copy.copy(deck2)\n",
        "                countn = 0\n",
        "            self.player.append(draw_card(random.randint(0, len(deck)-1)))\n",
        "            if is_bust(self.player):\n",
        "                done = True\n",
        "                reward = -1\n",
        "            else:\n",
        "                done = False\n",
        "                reward = 0\n",
        "        else:  # stick: play out the dealers hand, and score\n",
        "            done = True\n",
        "            while sum_hand(self.dealer) < 17:\n",
        "                if len(deck) == 0:\n",
        "                    deck = copy.copy(deck2)\n",
        "                    countn = 0\n",
        "                self.dealer.append(draw_card(random.randint(0, len(deck)-1)))\n",
        "            reward = cmp(score(self.player), score(self.dealer))\n",
        "            if self.natural and is_natural(self.player) and reward == 1:\n",
        "                reward = 1.5\n",
        "        return self._get_obs(), reward, done, {}\n",
        "\n",
        "    def _get_obs(self):\n",
        "        return (sum_hand(self.player), countn, usable_ace(self.player))\n",
        "\n",
        "    def reset(self):\n",
        "        global deck\n",
        "        global countn\n",
        "        if len(deck) < 4:\n",
        "            deck = copy.copy(deck2)\n",
        "            countn = 0\n",
        "        self.dealer = draw_hand()\n",
        "        self.player = draw_hand()\n",
        "        return self._get_obs()"
      ],
      "execution_count": 0,
      "outputs": []
    },
    {
      "cell_type": "code",
      "metadata": {
        "id": "3SC1Dpap7jtX",
        "colab_type": "code",
        "colab": {}
      },
      "source": [
        "env = CountBlackjackEnv()\n",
        "np.random.seed(123)\n",
        "env.seed(123)\n",
        "nb_actions = env.action_space.n"
      ],
      "execution_count": 0,
      "outputs": []
    },
    {
      "cell_type": "code",
      "metadata": {
        "id": "F1sXwl7q7olo",
        "colab_type": "code",
        "outputId": "8b460c96-0bd9-4ddf-9e51-e5beda4730f0",
        "colab": {
          "base_uri": "https://localhost:8080/",
          "height": 540
        }
      },
      "source": [
        "model = Sequential()\n",
        "model.add(Flatten(input_shape=(1,3)))\n",
        "model.add(Dense(16))\n",
        "model.add(Activation('relu'))\n",
        "model.add(Dense(16))\n",
        "model.add(Activation('relu'))\n",
        "model.add(Dense(16))\n",
        "model.add(Activation('relu'))\n",
        "model.add(Dense(nb_actions))\n",
        "model.add(Activation('linear'))\n",
        "\n",
        "model.summary()"
      ],
      "execution_count": 9,
      "outputs": [
        {
          "output_type": "stream",
          "text": [
            "WARNING:tensorflow:From /usr/local/lib/python3.6/dist-packages/tensorflow/python/framework/op_def_library.py:263: colocate_with (from tensorflow.python.framework.ops) is deprecated and will be removed in a future version.\n",
            "Instructions for updating:\n",
            "Colocations handled automatically by placer.\n",
            "Model: \"sequential_1\"\n",
            "_________________________________________________________________\n",
            "Layer (type)                 Output Shape              Param #   \n",
            "=================================================================\n",
            "flatten_1 (Flatten)          (None, 3)                 0         \n",
            "_________________________________________________________________\n",
            "dense_1 (Dense)              (None, 16)                64        \n",
            "_________________________________________________________________\n",
            "activation_1 (Activation)    (None, 16)                0         \n",
            "_________________________________________________________________\n",
            "dense_2 (Dense)              (None, 16)                272       \n",
            "_________________________________________________________________\n",
            "activation_2 (Activation)    (None, 16)                0         \n",
            "_________________________________________________________________\n",
            "dense_3 (Dense)              (None, 16)                272       \n",
            "_________________________________________________________________\n",
            "activation_3 (Activation)    (None, 16)                0         \n",
            "_________________________________________________________________\n",
            "dense_4 (Dense)              (None, 2)                 34        \n",
            "_________________________________________________________________\n",
            "activation_4 (Activation)    (None, 2)                 0         \n",
            "=================================================================\n",
            "Total params: 642\n",
            "Trainable params: 642\n",
            "Non-trainable params: 0\n",
            "_________________________________________________________________\n"
          ],
          "name": "stdout"
        }
      ]
    },
    {
      "cell_type": "code",
      "metadata": {
        "id": "DwU2OuY08Qwk",
        "colab_type": "code",
        "colab": {}
      },
      "source": [
        "memory = SequentialMemory(limit=50000, window_length=1)\n",
        "policy = BoltzmannQPolicy()\n",
        "dqn = DQNAgent(model=model, nb_actions=nb_actions, memory=memory, nb_steps_warmup=10,\n",
        "               target_model_update=1e-2, policy=policy)\n",
        "dqn.compile(Adam(lr=1e-3), metrics=['mae'])"
      ],
      "execution_count": 0,
      "outputs": []
    },
    {
      "cell_type": "code",
      "metadata": {
        "id": "KYmYhxzN-Pl5",
        "colab_type": "code",
        "outputId": "00d85aa1-5cb2-4934-c7c2-a10af61c5d4b",
        "colab": {
          "base_uri": "https://localhost:8080/",
          "height": 211
        }
      },
      "source": [
        "dqn.fit(env, nb_steps=10000, visualize=False, verbose=1)"
      ],
      "execution_count": 11,
      "outputs": [
        {
          "output_type": "stream",
          "text": [
            "Training for 10000 steps ...\n",
            "Interval 1 (0 steps performed)\n",
            "\r    1/10000 [..............................] - ETA: 10:38 - reward: 0.0000e+00WARNING:tensorflow:From /usr/local/lib/python3.6/dist-packages/tensorflow/python/ops/math_ops.py:3066: to_int32 (from tensorflow.python.ops.math_ops) is deprecated and will be removed in a future version.\n",
            "Instructions for updating:\n",
            "Use tf.cast instead.\n"
          ],
          "name": "stdout"
        },
        {
          "output_type": "stream",
          "text": [
            "/root/.local/lib/python3.6/site-packages/rl/memory.py:39: UserWarning: Not enough entries to sample without replacement. Consider increasing your warm-up phase to avoid oversampling!\n",
            "  warnings.warn('Not enough entries to sample without replacement. Consider increasing your warm-up phase to avoid oversampling!')\n"
          ],
          "name": "stderr"
        },
        {
          "output_type": "stream",
          "text": [
            "10000/10000 [==============================] - 67s 7ms/step - reward: -0.1897\n",
            "done, took 66.573 seconds\n"
          ],
          "name": "stdout"
        },
        {
          "output_type": "execute_result",
          "data": {
            "text/plain": [
              "<keras.callbacks.History at 0x7fb3864a3a58>"
            ]
          },
          "metadata": {
            "tags": []
          },
          "execution_count": 11
        }
      ]
    },
    {
      "cell_type": "code",
      "metadata": {
        "id": "bdAW8zmT_k3b",
        "colab_type": "code",
        "colab": {}
      },
      "source": [
        "dqn.save_weights('dqn_countblackjack_v0_weights.h5f', overwrite=True)"
      ],
      "execution_count": 0,
      "outputs": []
    },
    {
      "cell_type": "code",
      "metadata": {
        "id": "eS5RwH3m_ojb",
        "colab_type": "code",
        "outputId": "76ac0202-3e00-4b82-a31d-50dd72a4563b",
        "colab": {
          "base_uri": "https://localhost:8080/",
          "height": 1000
        }
      },
      "source": [
        "dqn.test(env, nb_episodes=100, visualize=False)"
      ],
      "execution_count": 18,
      "outputs": [
        {
          "output_type": "stream",
          "text": [
            "Testing for 100 episodes ...\n",
            "Episode 1: reward: 1.000, steps: 2\n",
            "Episode 2: reward: -1.000, steps: 2\n",
            "Episode 3: reward: -1.000, steps: 1\n",
            "Episode 4: reward: -1.000, steps: 2\n",
            "Episode 5: reward: -1.000, steps: 1\n",
            "Episode 6: reward: 1.000, steps: 3\n",
            "Episode 7: reward: -1.000, steps: 1\n",
            "Episode 8: reward: -1.000, steps: 1\n",
            "Episode 9: reward: -1.000, steps: 2\n",
            "Episode 10: reward: -1.000, steps: 2\n",
            "Episode 11: reward: 1.000, steps: 3\n",
            "Episode 12: reward: -1.000, steps: 3\n",
            "Episode 13: reward: 1.000, steps: 1\n",
            "Episode 14: reward: -1.000, steps: 1\n",
            "Episode 15: reward: -1.000, steps: 2\n",
            "Episode 16: reward: 1.000, steps: 2\n",
            "Episode 17: reward: 1.000, steps: 1\n",
            "Episode 18: reward: -1.000, steps: 1\n",
            "Episode 19: reward: -1.000, steps: 1\n",
            "Episode 20: reward: 1.000, steps: 1\n",
            "Episode 21: reward: -1.000, steps: 1\n",
            "Episode 22: reward: -1.000, steps: 1\n",
            "Episode 23: reward: -1.000, steps: 3\n",
            "Episode 24: reward: 1.000, steps: 2\n",
            "Episode 25: reward: 0.000, steps: 2\n",
            "Episode 26: reward: 1.000, steps: 4\n",
            "Episode 27: reward: -1.000, steps: 1\n",
            "Episode 28: reward: -1.000, steps: 1\n",
            "Episode 29: reward: 0.000, steps: 1\n",
            "Episode 30: reward: -1.000, steps: 1\n",
            "Episode 31: reward: -1.000, steps: 2\n",
            "Episode 32: reward: -1.000, steps: 1\n",
            "Episode 33: reward: -1.000, steps: 2\n",
            "Episode 34: reward: -1.000, steps: 1\n",
            "Episode 35: reward: -1.000, steps: 1\n",
            "Episode 36: reward: 1.000, steps: 1\n",
            "Episode 37: reward: 1.000, steps: 1\n",
            "Episode 38: reward: 1.000, steps: 1\n",
            "Episode 39: reward: 1.000, steps: 1\n",
            "Episode 40: reward: -1.000, steps: 1\n",
            "Episode 41: reward: -1.000, steps: 1\n",
            "Episode 42: reward: 1.000, steps: 2\n",
            "Episode 43: reward: -1.000, steps: 1\n",
            "Episode 44: reward: -1.000, steps: 2\n",
            "Episode 45: reward: 1.000, steps: 4\n",
            "Episode 46: reward: -1.000, steps: 1\n",
            "Episode 47: reward: 0.000, steps: 3\n",
            "Episode 48: reward: 1.000, steps: 5\n",
            "Episode 49: reward: -1.000, steps: 2\n",
            "Episode 50: reward: 1.000, steps: 1\n",
            "Episode 51: reward: 0.000, steps: 2\n",
            "Episode 52: reward: -1.000, steps: 3\n",
            "Episode 53: reward: -1.000, steps: 1\n",
            "Episode 54: reward: 1.000, steps: 1\n",
            "Episode 55: reward: 1.000, steps: 1\n",
            "Episode 56: reward: 1.000, steps: 1\n",
            "Episode 57: reward: 1.000, steps: 2\n",
            "Episode 58: reward: 1.000, steps: 1\n",
            "Episode 59: reward: -1.000, steps: 1\n",
            "Episode 60: reward: 1.000, steps: 1\n",
            "Episode 61: reward: 1.000, steps: 2\n",
            "Episode 62: reward: 0.000, steps: 2\n",
            "Episode 63: reward: 1.000, steps: 2\n",
            "Episode 64: reward: -1.000, steps: 2\n",
            "Episode 65: reward: 1.000, steps: 2\n",
            "Episode 66: reward: 1.000, steps: 2\n",
            "Episode 67: reward: 1.000, steps: 2\n",
            "Episode 68: reward: 1.000, steps: 1\n",
            "Episode 69: reward: 1.000, steps: 1\n",
            "Episode 70: reward: -1.000, steps: 1\n",
            "Episode 71: reward: -1.000, steps: 2\n",
            "Episode 72: reward: 1.000, steps: 1\n",
            "Episode 73: reward: -1.000, steps: 2\n",
            "Episode 74: reward: 0.000, steps: 1\n",
            "Episode 75: reward: -1.000, steps: 1\n",
            "Episode 76: reward: 1.000, steps: 3\n",
            "Episode 77: reward: 0.000, steps: 2\n",
            "Episode 78: reward: 1.000, steps: 2\n",
            "Episode 79: reward: 1.000, steps: 3\n",
            "Episode 80: reward: 1.000, steps: 1\n",
            "Episode 81: reward: 0.000, steps: 1\n",
            "Episode 82: reward: 1.000, steps: 1\n",
            "Episode 83: reward: -1.000, steps: 1\n",
            "Episode 84: reward: 0.000, steps: 1\n",
            "Episode 85: reward: -1.000, steps: 2\n",
            "Episode 86: reward: 1.000, steps: 1\n",
            "Episode 87: reward: -1.000, steps: 2\n",
            "Episode 88: reward: -1.000, steps: 1\n",
            "Episode 89: reward: 1.000, steps: 1\n",
            "Episode 90: reward: 1.000, steps: 1\n",
            "Episode 91: reward: -1.000, steps: 3\n",
            "Episode 92: reward: -1.000, steps: 3\n",
            "Episode 93: reward: 1.000, steps: 3\n",
            "Episode 94: reward: 1.000, steps: 3\n",
            "Episode 95: reward: -1.000, steps: 1\n",
            "Episode 96: reward: 1.000, steps: 1\n",
            "Episode 97: reward: 1.000, steps: 1\n",
            "Episode 98: reward: 1.000, steps: 1\n",
            "Episode 99: reward: 1.000, steps: 2\n",
            "Episode 100: reward: -1.000, steps: 2\n"
          ],
          "name": "stdout"
        },
        {
          "output_type": "execute_result",
          "data": {
            "text/plain": [
              "<keras.callbacks.History at 0x7fb3805195c0>"
            ]
          },
          "metadata": {
            "tags": []
          },
          "execution_count": 18
        }
      ]
    },
    {
      "cell_type": "code",
      "metadata": {
        "id": "1wX1TwQu75cH",
        "colab_type": "code",
        "colab": {}
      },
      "source": [
        "# Mr. Kyle King. 2020 March 6-7.Assistance given to the author, verbal discussion and electronic copying.\n",
        "# https://gist.github.com/kylekyle/ba1d0d716b644e83495e95d68418167a Using this code and \n",
        "# verabl discussion Mr. King helped me understand how to use a reinforcement learning model\n",
        "# and create an agent."
      ],
      "execution_count": 0,
      "outputs": []
    },
    {
      "cell_type": "code",
      "metadata": {
        "id": "PabnUh4X9HBf",
        "colab_type": "code",
        "colab": {}
      },
      "source": [
        "# Mr. Matthias Plappert. 2020 March 6. Electronic copying. https://github.com/keras-rl/keras-rl\n",
        "# I used Keras-rl for this project and the example dqn_cartpole.py to understand how to import\n",
        "# Keras featurs and compile my blackjack agent."
      ],
      "execution_count": 0,
      "outputs": []
    },
    {
      "cell_type": "code",
      "metadata": {
        "id": "CqBtm6_y_Pq9",
        "colab_type": "code",
        "colab": {}
      },
      "source": [
        "# Open AI gym contributers. 2020 March 6. Electronic copying. https://github.com/openai/gym/blob/master/gym/envs/toy_text/blackjack.py\n",
        "# I modyfied the code from blackjack.py as my agent. Most of the methods from blackjack.py remain unchanged from the source."
      ],
      "execution_count": 0,
      "outputs": []
    }
  ]
}
