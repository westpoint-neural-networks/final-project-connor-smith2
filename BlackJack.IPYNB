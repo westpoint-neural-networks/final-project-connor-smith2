{
  "nbformat": 4,
  "nbformat_minor": 0,
  "metadata": {
    "colab": {
      "name": "BlackJack.IPYNB",
      "provenance": []
    },
    "kernelspec": {
      "name": "python3",
      "display_name": "Python 3"
    }
  },
  "cells": [
    {
      "cell_type": "code",
      "metadata": {
        "id": "FKZ4Z5U3tqMt",
        "colab_type": "code",
        "outputId": "4b3315b9-944f-45eb-e573-373a75eab9cc",
        "colab": {
          "base_uri": "https://localhost:8080/",
          "height": 193
        }
      },
      "source": [
        "!pip install ipydeps"
      ],
      "execution_count": 2,
      "outputs": [
        {
          "output_type": "stream",
          "text": [
            "Requirement already satisfied: ipydeps in /usr/local/lib/python3.6/dist-packages (0.10.0)\n",
            "Requirement already satisfied: pypki2>=0.10.1 in /usr/local/lib/python3.6/dist-packages (from ipydeps) (0.11.0)\n",
            "Requirement already satisfied: setuptools in /usr/local/lib/python3.6/dist-packages (from ipydeps) (45.2.0)\n",
            "Requirement already satisfied: pip in /usr/local/lib/python3.6/dist-packages (from ipydeps) (19.3.1)\n",
            "Requirement already satisfied: pyOpenSSL in /usr/local/lib/python3.6/dist-packages (from pypki2>=0.10.1->ipydeps) (19.1.0)\n",
            "Requirement already satisfied: six>=1.5.2 in /usr/local/lib/python3.6/dist-packages (from pyOpenSSL->pypki2>=0.10.1->ipydeps) (1.12.0)\n",
            "Requirement already satisfied: cryptography>=2.8 in /usr/local/lib/python3.6/dist-packages (from pyOpenSSL->pypki2>=0.10.1->ipydeps) (2.8)\n",
            "Requirement already satisfied: cffi!=1.11.3,>=1.8 in /usr/local/lib/python3.6/dist-packages (from cryptography>=2.8->pyOpenSSL->pypki2>=0.10.1->ipydeps) (1.14.0)\n",
            "Requirement already satisfied: pycparser in /usr/local/lib/python3.6/dist-packages (from cffi!=1.11.3,>=1.8->cryptography>=2.8->pyOpenSSL->pypki2>=0.10.1->ipydeps) (2.20)\n"
          ],
          "name": "stdout"
        }
      ]
    },
    {
      "cell_type": "code",
      "metadata": {
        "id": "OnKf4S1ntsGI",
        "colab_type": "code",
        "outputId": "d6872692-bbcf-4411-b3e6-a1eb0582dcea",
        "colab": {
          "base_uri": "https://localhost:8080/",
          "height": 87
        }
      },
      "source": [
        "import ipydeps\n",
        "ipydeps.pip([\"keras-rl\", \"gym\"])"
      ],
      "execution_count": 3,
      "outputs": [
        {
          "output_type": "display_data",
          "data": {
            "text/html": [
              "<div style=\"font-family:monospace;background:#e6fee6;color:black\"><pre>Packages already installed: gym</pre></div>"
            ],
            "text/plain": [
              "<IPython.core.display.HTML object>"
            ]
          },
          "metadata": {
            "tags": []
          }
        },
        {
          "output_type": "display_data",
          "data": {
            "text/html": [
              "<div style=\"font-family:monospace;background:#eee;color:black\"><pre>Running pip to install keras-rl</pre></div>"
            ],
            "text/plain": [
              "<IPython.core.display.HTML object>"
            ]
          },
          "metadata": {
            "tags": []
          }
        },
        {
          "output_type": "display_data",
          "data": {
            "text/html": [
              "<div style=\"font-family:monospace;background:#e6fee6;color:black\"><pre>New packages installed: keras-rl</pre></div>"
            ],
            "text/plain": [
              "<IPython.core.display.HTML object>"
            ]
          },
          "metadata": {
            "tags": []
          }
        },
        {
          "output_type": "display_data",
          "data": {
            "text/html": [
              "<div style=\"font-family:monospace;background:#eee;color:black\"><pre>Done</pre></div>"
            ],
            "text/plain": [
              "<IPython.core.display.HTML object>"
            ]
          },
          "metadata": {
            "tags": []
          }
        }
      ]
    },
    {
      "cell_type": "code",
      "metadata": {
        "id": "zt1KM-AMtvmU",
        "colab_type": "code",
        "outputId": "1e0ecb9b-7478-4b9c-ee72-3940bfe49fb0",
        "colab": {
          "base_uri": "https://localhost:8080/",
          "height": 139
        }
      },
      "source": [
        "!pip uninstall tensorflow"
      ],
      "execution_count": 4,
      "outputs": [
        {
          "output_type": "stream",
          "text": [
            "Uninstalling tensorflow-1.15.0:\n",
            "  Would remove:\n",
            "    /tensorflow-1.15.0/python3.6/tensorflow-1.15.0.dist-info/*\n",
            "    /tensorflow-1.15.0/python3.6/tensorflow/*\n",
            "    /tensorflow-1.15.0/python3.6/tensorflow_core/*\n",
            "Proceed (y/n)? y\n",
            "  Successfully uninstalled tensorflow-1.15.0\n"
          ],
          "name": "stdout"
        }
      ]
    },
    {
      "cell_type": "code",
      "metadata": {
        "id": "y_sG8yC9t056",
        "colab_type": "code",
        "outputId": "7881b12e-46a0-43ef-d56b-22f001383c62",
        "colab": {
          "base_uri": "https://localhost:8080/",
          "height": 713
        }
      },
      "source": [
        "!pip install tensorflow==1.13.1"
      ],
      "execution_count": 5,
      "outputs": [
        {
          "output_type": "stream",
          "text": [
            "Collecting tensorflow==1.13.1\n",
            "\u001b[?25l  Downloading https://files.pythonhosted.org/packages/77/63/a9fa76de8dffe7455304c4ed635be4aa9c0bacef6e0633d87d5f54530c5c/tensorflow-1.13.1-cp36-cp36m-manylinux1_x86_64.whl (92.5MB)\n",
            "\u001b[K     |████████████████████████████████| 92.5MB 71kB/s \n",
            "\u001b[?25hRequirement already satisfied: keras-applications>=1.0.6 in /usr/local/lib/python3.6/dist-packages (from tensorflow==1.13.1) (1.0.8)\n",
            "Requirement already satisfied: keras-preprocessing>=1.0.5 in /usr/local/lib/python3.6/dist-packages (from tensorflow==1.13.1) (1.1.0)\n",
            "Requirement already satisfied: protobuf>=3.6.1 in /usr/local/lib/python3.6/dist-packages (from tensorflow==1.13.1) (3.10.0)\n",
            "Requirement already satisfied: gast>=0.2.0 in /usr/local/lib/python3.6/dist-packages (from tensorflow==1.13.1) (0.2.2)\n",
            "Requirement already satisfied: wheel>=0.26 in /usr/local/lib/python3.6/dist-packages (from tensorflow==1.13.1) (0.34.2)\n",
            "Requirement already satisfied: astor>=0.6.0 in /usr/local/lib/python3.6/dist-packages (from tensorflow==1.13.1) (0.8.1)\n",
            "Requirement already satisfied: grpcio>=1.8.6 in /usr/local/lib/python3.6/dist-packages (from tensorflow==1.13.1) (1.24.3)\n",
            "Collecting tensorboard<1.14.0,>=1.13.0\n",
            "\u001b[?25l  Downloading https://files.pythonhosted.org/packages/0f/39/bdd75b08a6fba41f098b6cb091b9e8c7a80e1b4d679a581a0ccd17b10373/tensorboard-1.13.1-py3-none-any.whl (3.2MB)\n",
            "\u001b[K     |████████████████████████████████| 3.2MB 35.0MB/s \n",
            "\u001b[?25hRequirement already satisfied: absl-py>=0.1.6 in /usr/local/lib/python3.6/dist-packages (from tensorflow==1.13.1) (0.9.0)\n",
            "Requirement already satisfied: numpy>=1.13.3 in /usr/local/lib/python3.6/dist-packages (from tensorflow==1.13.1) (1.18.1)\n",
            "Requirement already satisfied: six>=1.10.0 in /usr/local/lib/python3.6/dist-packages (from tensorflow==1.13.1) (1.12.0)\n",
            "Collecting tensorflow-estimator<1.14.0rc0,>=1.13.0\n",
            "\u001b[?25l  Downloading https://files.pythonhosted.org/packages/bb/48/13f49fc3fa0fdf916aa1419013bb8f2ad09674c275b4046d5ee669a46873/tensorflow_estimator-1.13.0-py2.py3-none-any.whl (367kB)\n",
            "\u001b[K     |████████████████████████████████| 368kB 42.1MB/s \n",
            "\u001b[?25hRequirement already satisfied: termcolor>=1.1.0 in /usr/local/lib/python3.6/dist-packages (from tensorflow==1.13.1) (1.1.0)\n",
            "Requirement already satisfied: h5py in /usr/local/lib/python3.6/dist-packages (from keras-applications>=1.0.6->tensorflow==1.13.1) (2.8.0)\n",
            "Requirement already satisfied: setuptools in /usr/local/lib/python3.6/dist-packages (from protobuf>=3.6.1->tensorflow==1.13.1) (45.2.0)\n",
            "Requirement already satisfied: markdown>=2.6.8 in /usr/local/lib/python3.6/dist-packages (from tensorboard<1.14.0,>=1.13.0->tensorflow==1.13.1) (3.2.1)\n",
            "Requirement already satisfied: werkzeug>=0.11.15 in /usr/local/lib/python3.6/dist-packages (from tensorboard<1.14.0,>=1.13.0->tensorflow==1.13.1) (1.0.0)\n",
            "Collecting mock>=2.0.0\n",
            "  Downloading https://files.pythonhosted.org/packages/cd/74/d72daf8dff5b6566db857cfd088907bb0355f5dd2914c4b3ef065c790735/mock-4.0.2-py3-none-any.whl\n",
            "\u001b[31mERROR: tensorflow-federated 0.12.0 has requirement tensorflow~=2.1.0, but you'll have tensorflow 1.13.1 which is incompatible.\u001b[0m\n",
            "\u001b[31mERROR: tensorflow-federated 0.12.0 has requirement tensorflow-addons~=0.7.0, but you'll have tensorflow-addons 0.8.3 which is incompatible.\u001b[0m\n",
            "Installing collected packages: tensorboard, mock, tensorflow-estimator, tensorflow\n",
            "  Found existing installation: tensorboard 1.15.0\n",
            "    Uninstalling tensorboard-1.15.0:\n",
            "      Successfully uninstalled tensorboard-1.15.0\n",
            "  Found existing installation: tensorflow-estimator 1.15.1\n",
            "    Uninstalling tensorflow-estimator-1.15.1:\n",
            "      Successfully uninstalled tensorflow-estimator-1.15.1\n",
            "  Found existing installation: tensorflow 2.1.0\n",
            "    Uninstalling tensorflow-2.1.0:\n",
            "      Successfully uninstalled tensorflow-2.1.0\n",
            "Successfully installed mock-4.0.2 tensorboard-2.1.1 tensorflow-1.13.1 tensorflow-estimator-2.1.0\n"
          ],
          "name": "stdout"
        }
      ]
    },
    {
      "cell_type": "code",
      "metadata": {
        "id": "4DIAbAQ-t6p9",
        "colab_type": "code",
        "outputId": "c4c9bb3b-9264-4e80-9552-5a196ff25af5",
        "colab": {
          "base_uri": "https://localhost:8080/",
          "height": 309
        }
      },
      "source": [
        "import numpy as np\n",
        "import gym\n",
        "from gym import spaces\n",
        "from gym.utils import seeding\n",
        "\n",
        "from keras.models import Sequential\n",
        "from keras.layers import Dense, Activation, Flatten\n",
        "from keras.optimizers import Adam\n",
        "\n",
        "from rl.agents.dqn import DQNAgent\n",
        "from rl.policy import BoltzmannQPolicy\n",
        "from rl.memory import SequentialMemory"
      ],
      "execution_count": 6,
      "outputs": [
        {
          "output_type": "stream",
          "text": [
            "Using TensorFlow backend.\n",
            "/usr/local/lib/python3.6/dist-packages/tensorflow/python/framework/dtypes.py:526: FutureWarning: Passing (type, 1) or '1type' as a synonym of type is deprecated; in a future version of numpy, it will be understood as (type, (1,)) / '(1,)type'.\n",
            "  _np_qint8 = np.dtype([(\"qint8\", np.int8, 1)])\n",
            "/usr/local/lib/python3.6/dist-packages/tensorflow/python/framework/dtypes.py:527: FutureWarning: Passing (type, 1) or '1type' as a synonym of type is deprecated; in a future version of numpy, it will be understood as (type, (1,)) / '(1,)type'.\n",
            "  _np_quint8 = np.dtype([(\"quint8\", np.uint8, 1)])\n",
            "/usr/local/lib/python3.6/dist-packages/tensorflow/python/framework/dtypes.py:528: FutureWarning: Passing (type, 1) or '1type' as a synonym of type is deprecated; in a future version of numpy, it will be understood as (type, (1,)) / '(1,)type'.\n",
            "  _np_qint16 = np.dtype([(\"qint16\", np.int16, 1)])\n",
            "/usr/local/lib/python3.6/dist-packages/tensorflow/python/framework/dtypes.py:529: FutureWarning: Passing (type, 1) or '1type' as a synonym of type is deprecated; in a future version of numpy, it will be understood as (type, (1,)) / '(1,)type'.\n",
            "  _np_quint16 = np.dtype([(\"quint16\", np.uint16, 1)])\n",
            "/usr/local/lib/python3.6/dist-packages/tensorflow/python/framework/dtypes.py:530: FutureWarning: Passing (type, 1) or '1type' as a synonym of type is deprecated; in a future version of numpy, it will be understood as (type, (1,)) / '(1,)type'.\n",
            "  _np_qint32 = np.dtype([(\"qint32\", np.int32, 1)])\n",
            "/usr/local/lib/python3.6/dist-packages/tensorflow/python/framework/dtypes.py:535: FutureWarning: Passing (type, 1) or '1type' as a synonym of type is deprecated; in a future version of numpy, it will be understood as (type, (1,)) / '(1,)type'.\n",
            "  np_resource = np.dtype([(\"resource\", np.ubyte, 1)])\n"
          ],
          "name": "stderr"
        },
        {
          "output_type": "display_data",
          "data": {
            "text/html": [
              "<p style=\"color: red;\">\n",
              "The default version of TensorFlow in Colab will soon switch to TensorFlow 2.x.<br>\n",
              "We recommend you <a href=\"https://www.tensorflow.org/guide/migrate\" target=\"_blank\">upgrade</a> now \n",
              "or ensure your notebook will continue to use TensorFlow 1.x via the <code>%tensorflow_version 1.x</code> magic:\n",
              "<a href=\"https://colab.research.google.com/notebooks/tensorflow_version.ipynb\" target=\"_blank\">more info</a>.</p>\n"
            ],
            "text/plain": [
              "<IPython.core.display.HTML object>"
            ]
          },
          "metadata": {
            "tags": []
          }
        }
      ]
    },
    {
      "cell_type": "code",
      "metadata": {
        "id": "YmyNle88uKoB",
        "colab_type": "code",
        "colab": {}
      },
      "source": [
        "env = gym.make('Blackjack-v0')\n",
        "np.random.seed(123)\n",
        "env.seed(123)\n",
        "nb_actions = env.action_space.n"
      ],
      "execution_count": 0,
      "outputs": []
    },
    {
      "cell_type": "code",
      "metadata": {
        "id": "ClC_KrbFuoGz",
        "colab_type": "code",
        "outputId": "36f99b22-9ded-4d96-bd08-1f12f37044c1",
        "colab": {
          "base_uri": "https://localhost:8080/",
          "height": 540
        }
      },
      "source": [
        "model = Sequential()\n",
        "model.add(Flatten(input_shape=(1,3)))\n",
        "model.add(Dense(16))\n",
        "model.add(Activation('relu'))\n",
        "model.add(Dense(16))\n",
        "model.add(Activation('relu'))\n",
        "model.add(Dense(16))\n",
        "model.add(Activation('relu'))\n",
        "model.add(Dense(nb_actions))\n",
        "model.add(Activation('linear'))\n",
        "\n",
        "model.summary()"
      ],
      "execution_count": 8,
      "outputs": [
        {
          "output_type": "stream",
          "text": [
            "WARNING:tensorflow:From /usr/local/lib/python3.6/dist-packages/tensorflow/python/framework/op_def_library.py:263: colocate_with (from tensorflow.python.framework.ops) is deprecated and will be removed in a future version.\n",
            "Instructions for updating:\n",
            "Colocations handled automatically by placer.\n",
            "Model: \"sequential_1\"\n",
            "_________________________________________________________________\n",
            "Layer (type)                 Output Shape              Param #   \n",
            "=================================================================\n",
            "flatten_1 (Flatten)          (None, 3)                 0         \n",
            "_________________________________________________________________\n",
            "dense_1 (Dense)              (None, 16)                64        \n",
            "_________________________________________________________________\n",
            "activation_1 (Activation)    (None, 16)                0         \n",
            "_________________________________________________________________\n",
            "dense_2 (Dense)              (None, 16)                272       \n",
            "_________________________________________________________________\n",
            "activation_2 (Activation)    (None, 16)                0         \n",
            "_________________________________________________________________\n",
            "dense_3 (Dense)              (None, 16)                272       \n",
            "_________________________________________________________________\n",
            "activation_3 (Activation)    (None, 16)                0         \n",
            "_________________________________________________________________\n",
            "dense_4 (Dense)              (None, 2)                 34        \n",
            "_________________________________________________________________\n",
            "activation_4 (Activation)    (None, 2)                 0         \n",
            "=================================================================\n",
            "Total params: 642\n",
            "Trainable params: 642\n",
            "Non-trainable params: 0\n",
            "_________________________________________________________________\n"
          ],
          "name": "stdout"
        }
      ]
    },
    {
      "cell_type": "code",
      "metadata": {
        "id": "mnfOD2UjusDg",
        "colab_type": "code",
        "colab": {}
      },
      "source": [
        "memory = SequentialMemory(limit=50000, window_length=1)\n",
        "policy = BoltzmannQPolicy()\n",
        "dqn = DQNAgent(model=model, nb_actions=nb_actions, memory=memory, nb_steps_warmup=10,\n",
        "               target_model_update=1e-2, policy=policy)\n",
        "dqn.compile(Adam(lr=1e-3), metrics=['mae'])"
      ],
      "execution_count": 0,
      "outputs": []
    },
    {
      "cell_type": "code",
      "metadata": {
        "id": "f9mE2tYCutzw",
        "colab_type": "code",
        "outputId": "e4ea63d4-fc4f-4c95-dbf4-343809c0140d",
        "colab": {
          "base_uri": "https://localhost:8080/",
          "height": 211
        }
      },
      "source": [
        "dqn.fit(env, nb_steps=10000, visualize=False, verbose=1)"
      ],
      "execution_count": 10,
      "outputs": [
        {
          "output_type": "stream",
          "text": [
            "Training for 10000 steps ...\n",
            "Interval 1 (0 steps performed)\n",
            "\r    1/10000 [..............................] - ETA: 8:37 - reward: 0.0000e+00WARNING:tensorflow:From /usr/local/lib/python3.6/dist-packages/tensorflow/python/ops/math_ops.py:3066: to_int32 (from tensorflow.python.ops.math_ops) is deprecated and will be removed in a future version.\n",
            "Instructions for updating:\n",
            "Use tf.cast instead.\n"
          ],
          "name": "stdout"
        },
        {
          "output_type": "stream",
          "text": [
            "/root/.local/lib/python3.6/site-packages/rl/memory.py:39: UserWarning: Not enough entries to sample without replacement. Consider increasing your warm-up phase to avoid oversampling!\n",
            "  warnings.warn('Not enough entries to sample without replacement. Consider increasing your warm-up phase to avoid oversampling!')\n"
          ],
          "name": "stderr"
        },
        {
          "output_type": "stream",
          "text": [
            "10000/10000 [==============================] - 61s 6ms/step - reward: -0.1740\n",
            "done, took 60.731 seconds\n"
          ],
          "name": "stdout"
        },
        {
          "output_type": "execute_result",
          "data": {
            "text/plain": [
              "<keras.callbacks.History at 0x7f0172e76208>"
            ]
          },
          "metadata": {
            "tags": []
          },
          "execution_count": 10
        }
      ]
    },
    {
      "cell_type": "code",
      "metadata": {
        "id": "CM0Dtc6svPoI",
        "colab_type": "code",
        "colab": {}
      },
      "source": [
        "dqn.save_weights('dqn_blackjack_v0_weights.h5f', overwrite=True)"
      ],
      "execution_count": 0,
      "outputs": []
    },
    {
      "cell_type": "code",
      "metadata": {
        "id": "ckzXPSFpvwjH",
        "colab_type": "code",
        "outputId": "4930a04e-78f4-44d7-dd1c-534fb28aa3d0",
        "colab": {
          "base_uri": "https://localhost:8080/",
          "height": 1000
        }
      },
      "source": [
        "dqn.test(env, nb_episodes=100, visualize=False)"
      ],
      "execution_count": 14,
      "outputs": [
        {
          "output_type": "stream",
          "text": [
            "Testing for 100 episodes ...\n",
            "Episode 1: reward: -1.000, steps: 1\n",
            "Episode 2: reward: -1.000, steps: 2\n",
            "Episode 3: reward: 1.000, steps: 3\n",
            "Episode 4: reward: -1.000, steps: 2\n",
            "Episode 5: reward: 1.000, steps: 2\n",
            "Episode 6: reward: -1.000, steps: 3\n",
            "Episode 7: reward: -1.000, steps: 1\n",
            "Episode 8: reward: 1.000, steps: 2\n",
            "Episode 9: reward: -1.000, steps: 1\n",
            "Episode 10: reward: 1.000, steps: 2\n",
            "Episode 11: reward: -1.000, steps: 2\n",
            "Episode 12: reward: -1.000, steps: 1\n",
            "Episode 13: reward: 1.000, steps: 1\n",
            "Episode 14: reward: 0.000, steps: 1\n",
            "Episode 15: reward: 0.000, steps: 3\n",
            "Episode 16: reward: -1.000, steps: 1\n",
            "Episode 17: reward: -1.000, steps: 2\n",
            "Episode 18: reward: -1.000, steps: 1\n",
            "Episode 19: reward: -1.000, steps: 2\n",
            "Episode 20: reward: 0.000, steps: 1\n",
            "Episode 21: reward: 1.000, steps: 2\n",
            "Episode 22: reward: -1.000, steps: 1\n",
            "Episode 23: reward: -1.000, steps: 2\n",
            "Episode 24: reward: -1.000, steps: 2\n",
            "Episode 25: reward: -1.000, steps: 2\n",
            "Episode 26: reward: 1.000, steps: 1\n",
            "Episode 27: reward: -1.000, steps: 2\n",
            "Episode 28: reward: 0.000, steps: 1\n",
            "Episode 29: reward: 0.000, steps: 1\n",
            "Episode 30: reward: 1.000, steps: 1\n",
            "Episode 31: reward: -1.000, steps: 1\n",
            "Episode 32: reward: 1.000, steps: 2\n",
            "Episode 33: reward: 0.000, steps: 1\n",
            "Episode 34: reward: -1.000, steps: 1\n",
            "Episode 35: reward: 1.000, steps: 1\n",
            "Episode 36: reward: -1.000, steps: 2\n",
            "Episode 37: reward: -1.000, steps: 1\n",
            "Episode 38: reward: -1.000, steps: 2\n",
            "Episode 39: reward: -1.000, steps: 1\n",
            "Episode 40: reward: 1.000, steps: 1\n",
            "Episode 41: reward: -1.000, steps: 1\n",
            "Episode 42: reward: 0.000, steps: 2\n",
            "Episode 43: reward: 1.000, steps: 2\n",
            "Episode 44: reward: -1.000, steps: 1\n",
            "Episode 45: reward: -1.000, steps: 2\n",
            "Episode 46: reward: -1.000, steps: 2\n",
            "Episode 47: reward: 1.000, steps: 1\n",
            "Episode 48: reward: -1.000, steps: 1\n",
            "Episode 49: reward: -1.000, steps: 1\n",
            "Episode 50: reward: 0.000, steps: 1\n",
            "Episode 51: reward: 1.000, steps: 2\n",
            "Episode 52: reward: -1.000, steps: 3\n",
            "Episode 53: reward: -1.000, steps: 1\n",
            "Episode 54: reward: 1.000, steps: 1\n",
            "Episode 55: reward: -1.000, steps: 1\n",
            "Episode 56: reward: 1.000, steps: 1\n",
            "Episode 57: reward: -1.000, steps: 1\n",
            "Episode 58: reward: 1.000, steps: 1\n",
            "Episode 59: reward: 1.000, steps: 1\n",
            "Episode 60: reward: 1.000, steps: 4\n",
            "Episode 61: reward: 1.000, steps: 1\n",
            "Episode 62: reward: -1.000, steps: 4\n",
            "Episode 63: reward: -1.000, steps: 1\n",
            "Episode 64: reward: 1.000, steps: 1\n",
            "Episode 65: reward: -1.000, steps: 2\n",
            "Episode 66: reward: 1.000, steps: 2\n",
            "Episode 67: reward: 1.000, steps: 1\n",
            "Episode 68: reward: 1.000, steps: 2\n",
            "Episode 69: reward: -1.000, steps: 1\n",
            "Episode 70: reward: -1.000, steps: 1\n",
            "Episode 71: reward: -1.000, steps: 1\n",
            "Episode 72: reward: 1.000, steps: 1\n",
            "Episode 73: reward: -1.000, steps: 1\n",
            "Episode 74: reward: 1.000, steps: 2\n",
            "Episode 75: reward: 1.000, steps: 3\n",
            "Episode 76: reward: -1.000, steps: 2\n",
            "Episode 77: reward: 1.000, steps: 2\n",
            "Episode 78: reward: -1.000, steps: 2\n",
            "Episode 79: reward: -1.000, steps: 1\n",
            "Episode 80: reward: -1.000, steps: 1\n",
            "Episode 81: reward: -1.000, steps: 1\n",
            "Episode 82: reward: -1.000, steps: 3\n",
            "Episode 83: reward: -1.000, steps: 1\n",
            "Episode 84: reward: -1.000, steps: 1\n",
            "Episode 85: reward: -1.000, steps: 1\n",
            "Episode 86: reward: -1.000, steps: 1\n",
            "Episode 87: reward: -1.000, steps: 1\n",
            "Episode 88: reward: -1.000, steps: 1\n",
            "Episode 89: reward: -1.000, steps: 2\n",
            "Episode 90: reward: 1.000, steps: 2\n",
            "Episode 91: reward: -1.000, steps: 1\n",
            "Episode 92: reward: 1.000, steps: 2\n",
            "Episode 93: reward: -1.000, steps: 1\n",
            "Episode 94: reward: 1.000, steps: 2\n",
            "Episode 95: reward: 1.000, steps: 1\n",
            "Episode 96: reward: -1.000, steps: 1\n",
            "Episode 97: reward: -1.000, steps: 1\n",
            "Episode 98: reward: -1.000, steps: 1\n",
            "Episode 99: reward: 0.000, steps: 1\n",
            "Episode 100: reward: 1.000, steps: 1\n"
          ],
          "name": "stdout"
        },
        {
          "output_type": "execute_result",
          "data": {
            "text/plain": [
              "<keras.callbacks.History at 0x7f015704c908>"
            ]
          },
          "metadata": {
            "tags": []
          },
          "execution_count": 14
        }
      ]
    }
  ]
}
